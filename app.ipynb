{
 "cells": [
  {
   "cell_type": "code",
   "execution_count": null,
   "id": "1fb5acba",
   "metadata": {},
   "outputs": [],
   "source": [
    "import streamlit as st\n",
    "import numpy as np\n",
    "import joblib\n",
    "\n",
    "# Load your trained model\n",
    "model = joblib.load(\"anemia_risk_classifier.pkl\")\n",
    "\n",
    "# App Title\n",
    "st.title(\"🩺 Anemia Risk Classifier\")\n",
    "st.write(\"Enter your test results below to check anemia risk.\")\n",
    "\n",
    "# Input fields\n",
    "age = st.number_input(\"Age\", min_value=1, max_value=120, value=25)\n",
    "sex = st.radio(\"Sex\", [\"Male\", \"Female\"])\n",
    "rbc = st.number_input(\"RBC (million cells/µL)\", min_value=0.0, value=4.5)\n",
    "pcv = st.number_input(\"PCV (%)\", min_value=0.0, value=36.0)\n",
    "mcv = st.number_input(\"MCV (fL)\", min_value=0.0, value=80.0)\n",
    "mch = st.number_input(\"MCH (pg)\", min_value=0.0, value=28.0)\n",
    "mchc = st.number_input(\"MCHC (g/dL)\", min_value=0.0, value=32.0)\n",
    "rdw = st.number_input(\"RDW (%)\", min_value=0.0, value=14.0)\n",
    "tlc = st.number_input(\"WBC Count (thousand/µL)\", min_value=0.0, value=6.0)\n",
    "plt = st.number_input(\"Platelet Count (thousand/µL)\", min_value=0.0, value=250.0)\n",
    "\n",
    "# Convert sex to numeric\n",
    "sex_val = 0.0 if sex == \"Male\" else 1.0\n",
    "\n",
    "# Prepare input for prediction\n",
    "input_data = np.array([[age, sex_val, rbc, pcv, mcv, mch, mchc, rdw, tlc, plt]])\n",
    "\n",
    "# Predict button\n",
    "if st.button(\"🔍 Predict Anemia Risk\"):\n",
    "    prediction = model.predict(input_data)[0]\n",
    "    if prediction == 1:\n",
    "        st.error(\"⚠️ High Risk of Anemia\")\n",
    "    else:\n",
    "        st.success(\"✅ No Anemia Detected\")\n"
   ]
  }
 ],
 "metadata": {
  "kernelspec": {
   "display_name": "Python 3 (ipykernel)",
   "language": "python",
   "name": "python3"
  },
  "language_info": {
   "codemirror_mode": {
    "name": "ipython",
    "version": 3
   },
   "file_extension": ".py",
   "mimetype": "text/x-python",
   "name": "python",
   "nbconvert_exporter": "python",
   "pygments_lexer": "ipython3",
   "version": "3.10.9"
  }
 },
 "nbformat": 4,
 "nbformat_minor": 5
}
